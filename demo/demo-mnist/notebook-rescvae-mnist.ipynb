{
 "cells": [
  {
   "cell_type": "markdown",
   "metadata": {},
   "source": [
    "## Train a rescvae for the handwritten digits simulation"
   ]
  },
  {
   "cell_type": "code",
   "execution_count": 1,
   "metadata": {},
   "outputs": [],
   "source": [
    "# Copyright (C) 2018 Zhixian MA <zx@mazhixian.me>"
   ]
  },
  {
   "cell_type": "code",
   "execution_count": 2,
   "metadata": {},
   "outputs": [],
   "source": [
    "import matplotlib\n",
    "matplotlib.use('Agg')\n",
    "%matplotlib inline\n",
    "import matplotlib.pyplot as plt"
   ]
  },
  {
   "cell_type": "code",
   "execution_count": 3,
   "metadata": {},
   "outputs": [
    {
     "name": "stderr",
     "output_type": "stream",
     "text": [
      "/usr/lib/python3.6/importlib/_bootstrap.py:219: RuntimeWarning: compiletime version 3.5 of module 'tensorflow.python.framework.fast_tensor_util' does not match runtime version 3.6\n",
      "  return f(*args, **kwds)\n"
     ]
    }
   ],
   "source": [
    "import tensorflow as tf"
   ]
  },
  {
   "cell_type": "code",
   "execution_count": 4,
   "metadata": {},
   "outputs": [],
   "source": [
    "from rescvae.rescvae import rescvae\n",
    "from rescvae.utils import utils"
   ]
  },
  {
   "cell_type": "code",
   "execution_count": 5,
   "metadata": {},
   "outputs": [],
   "source": [
    "from rescvae.configs import config_mnist\n",
    "from rescvae.configs import config_train"
   ]
  },
  {
   "cell_type": "markdown",
   "metadata": {},
   "source": [
    "### Load mnist data"
   ]
  },
  {
   "cell_type": "code",
   "execution_count": 6,
   "metadata": {},
   "outputs": [
    {
     "name": "stdout",
     "output_type": "stream",
     "text": [
      "Extracting MNIST_data/train-images-idx3-ubyte.gz\n",
      "Extracting MNIST_data/train-labels-idx1-ubyte.gz\n",
      "Extracting MNIST_data/t10k-images-idx3-ubyte.gz\n",
      "Extracting MNIST_data/t10k-labels-idx1-ubyte.gz\n"
     ]
    }
   ],
   "source": [
    "# Step1 load MNITST data\n",
    "from tensorflow.examples.tutorials.mnist import input_data\n",
    "mnist = input_data.read_data_sets(\"MNIST_data\", one_hot=True, validation_size=5000)"
   ]
  },
  {
   "cell_type": "code",
   "execution_count": 7,
   "metadata": {},
   "outputs": [],
   "source": [
    "cf = config_mnist\n",
    "tr_cf = config_train"
   ]
  },
  {
   "cell_type": "markdown",
   "metadata": {},
   "source": [
    "### Build the net and train"
   ]
  },
  {
   "cell_type": "code",
   "execution_count": 8,
   "metadata": {},
   "outputs": [
    {
     "name": "stdout",
     "output_type": "stream",
     "text": [
      "(?, 14, 14, 8)\n",
      "(?, 7, 7, 16)\n",
      "(?, 14, 14, 8)\n",
      "(?, 28, 28, 1)\n",
      "Layer ID    Layer type    Layer shape\n",
      "0 Input layer [None, 28, 28, 11]\n",
      "1 Block_en_0 [None, 28, 28, 11]\n",
      "2 Block_en_1 [None, 14, 14, 8]\n",
      "3 En_flatten [None, 784]\n",
      "4 En_mu [None, 128]\n",
      "5 En_sigma [None, 128]\n",
      "6 z [None, 128]\n",
      "7 De_flatten [None, 784]\n",
      "8 De_flatten_to_conv [None, 7, 7, 16]\n",
      "9 Block_de_0 [None, 14, 14, 8]\n",
      "10 Block_de_1 [None, 28, 28, 1]\n",
      "11 Output layer [None, 28, 28, 1]\n",
      "12 Flatten [None, 28, 28, 1]\n"
     ]
    }
   ],
   "source": [
    "net = rescvae(cf)\n",
    "net.cvae_build()\n",
    "net.net_print()"
   ]
  },
  {
   "cell_type": "code",
   "execution_count": 9,
   "metadata": {
    "scrolled": true
   },
   "outputs": [
    {
     "name": "stdout",
     "output_type": "stream",
     "text": [
      "[2018-11-27: 21:03:46]: Epochs    Trn_loss_recon    Val_loss_recon    Trn_loss_latent    Val_loss_latent\n",
      "[2018-11-27: 21:04:04]:      0         179.77888         159.67807           14.03365            5.72141\n",
      "[2018-11-27: 21:04:20]:      1         148.00918         141.92128            3.34084            2.86715\n",
      "[2018-11-27: 21:04:37]:      2         136.28592         130.87835            1.81385            1.43260\n",
      "[2018-11-27: 21:04:53]:      3         127.01765         122.70629            1.10188            0.73859\n",
      "[2018-11-27: 21:05:09]:      4         118.81099         114.61035            0.67470            0.40714\n",
      "[2018-11-27: 21:05:25]:      5         111.00614         106.98079            0.48631            0.35588\n",
      "[2018-11-27: 21:05:41]:      6         104.22800         100.12917            0.47662            0.41641\n",
      "[2018-11-27: 21:05:58]:      7          97.90905          93.50042            0.51720            0.46186\n",
      "[2018-11-27: 21:06:15]:      8          91.94878          87.71670            0.58431            0.53737\n",
      "[2018-11-27: 21:06:31]:      9          86.68240          82.66224            0.65187            0.64854\n",
      "[2018-11-27: 21:06:48]:     10          81.99421          78.26208            0.76362            0.76957\n",
      "[2018-11-27: 21:07:05]:     11          76.55930          72.21118            1.03510            1.17322\n",
      "[2018-11-27: 21:07:22]:     12          71.68656          68.03779            1.37651            1.40145\n",
      "[2018-11-27: 21:07:38]:     13          67.58937          64.34063            1.65965            1.67731\n",
      "[2018-11-27: 21:07:55]:     14          63.94033          60.67754            1.91405            1.96053\n",
      "[2018-11-27: 21:08:12]:     15          60.66856          57.65219            2.16259            2.16757\n",
      "[2018-11-27: 21:08:28]:     16          57.71319          55.02346            2.42021            2.36416\n",
      "[2018-11-27: 21:08:45]:     17          54.99480          52.32927            2.64399            2.60822\n",
      "[2018-11-27: 21:09:03]:     18          52.59123          50.09508            2.86647            2.83347\n",
      "[2018-11-27: 21:09:20]:     19          50.45544          48.13095            3.07220            3.02049\n",
      "[2018-11-27: 21:09:37]:     20          48.55571          46.47643            3.25546            3.22887\n",
      "[2018-11-27: 21:09:54]:     21          46.84259          44.93241            3.38557            3.33875\n",
      "[2018-11-27: 21:10:11]:     22          45.27738          43.98087            3.54021            3.36972\n",
      "[2018-11-27: 21:10:28]:     23          43.95696          42.51931            3.66794            3.59306\n",
      "[2018-11-27: 21:10:45]:     24          42.69249          41.63085            3.79025            3.72870\n",
      "[2018-11-27: 21:11:02]:     25          41.64776          40.44574            3.91744            3.89166\n",
      "[2018-11-27: 21:11:18]:     26          40.65606          40.10886            4.03560            3.94684\n",
      "[2018-11-27: 21:11:36]:     27          39.77865          39.19611            4.13860            4.01291\n",
      "[2018-11-27: 21:11:53]:     28          38.96851          38.35088            4.21045            4.12618\n",
      "[2018-11-27: 21:12:09]:     29          38.28157          38.12218            4.32671            4.24265\n",
      "[2018-11-27: 21:12:26]:     30          37.64435          37.50479            4.43698            4.29681\n",
      "[2018-11-27: 21:12:43]:     31          37.06810          36.91495            4.50267            4.43836\n",
      "[2018-11-27: 21:13:01]:     32          36.53859          36.92573            4.58932            4.57531\n",
      "[2018-11-27: 21:13:18]:     33          36.08335          36.49506            4.67619            4.57903\n",
      "[2018-11-27: 21:13:35]:     34          35.66737          36.39654            4.74691            4.62716\n",
      "[2018-11-27: 21:13:52]:     35          35.23111          35.49338            4.81020            4.71622\n",
      "[2018-11-27: 21:14:09]:     36          34.88687          35.78008            4.90823            4.82708\n",
      "[2018-11-27: 21:14:26]:     37          34.60485          35.56067            4.96697            4.85552\n",
      "[2018-11-27: 21:14:44]:     38          34.24382          34.99523            5.01778            4.88297\n",
      "[2018-11-27: 21:15:01]:     39          34.00364          34.43012            5.08998            4.98467\n",
      "[2018-11-27: 21:15:18]:     40          33.71741          34.63429            5.18454            5.08731\n",
      "[2018-11-27: 21:15:35]:     41          33.42912          34.05213            5.24075            5.08371\n",
      "[2018-11-27: 21:15:53]:     42          33.12139          33.82452            5.28066            5.16755\n",
      "[2018-11-27: 21:16:11]:     43          32.87001          33.75011            5.34719            5.20063\n",
      "[2018-11-27: 21:16:30]:     44          32.58460          34.18916            5.39749            5.24544\n",
      "[2018-11-27: 21:16:48]:     45          32.28738          32.76943            5.45710            5.40434\n",
      "[2018-11-27: 21:17:07]:     46          32.04448          32.74906            5.50269            5.38894\n",
      "[2018-11-27: 21:17:25]:     47          31.82702          32.38892            5.55308            5.55364\n",
      "[2018-11-27: 21:17:44]:     48          31.62548          32.60032            5.57813            5.53981\n",
      "[2018-11-27: 21:18:02]:     49          31.44239          32.89451            5.61375            5.47639\n"
     ]
    }
   ],
   "source": [
    "# train the net\n",
    "net.cvae_train_mnist(mnist=mnist, train_configs=tr_cf)"
   ]
  },
  {
   "cell_type": "markdown",
   "metadata": {},
   "source": [
    "### Test the net"
   ]
  },
  {
   "cell_type": "code",
   "execution_count": 10,
   "metadata": {},
   "outputs": [],
   "source": [
    "n_examples = 10\n",
    "img_test, label_test = mnist.test.next_batch(n_examples)\n",
    "label_test_input = utils.condition_reshape(\n",
    "    label=label_test, numclass=10, imgshape=(28,28))"
   ]
  },
  {
   "cell_type": "code",
   "execution_count": 11,
   "metadata": {},
   "outputs": [],
   "source": [
    "img_est = net.sess.run(\n",
    "    net.output_flatten_de, \n",
    "    feed_dict={net.inputs: img_test.reshape(-1,cf.rs,cf.rs,1), \n",
    "               net.outputs: img_test.reshape(-1,cf.rs,cf.rs,1),\n",
    "               net.conditions: label_test,\n",
    "               net.conditions_input: label_test_input,\n",
    "               net.is_training: False,\n",
    "               net.keep_prob:1.0\n",
    "               })"
   ]
  },
  {
   "cell_type": "code",
   "execution_count": 12,
   "metadata": {},
   "outputs": [
    {
     "name": "stderr",
     "output_type": "stream",
     "text": [
      "/home/mzx/.local/lib/python3.6/site-packages/matplotlib/figure.py:445: UserWarning: Matplotlib is currently using module://ipykernel.pylab.backend_inline, which is a non-GUI backend, so cannot show the figure.\n",
      "  % get_backend())\n"
     ]
    },
    {
     "data": {
      "image/png": "[encoded data removed]",
      "text/plain": [
       "<Figure size 720x144 with 20 Axes>"
      ]
     },
     "metadata": {},
     "output_type": "display_data"
    }
   ],
   "source": [
    "import numpy as np\n",
    "fig, axs = plt.subplots(2, n_examples, figsize=(n_examples, 2))\n",
    "for example_i in range(n_examples):\n",
    "    # original\n",
    "    axs[0][example_i].imshow(np.reshape(img_test[example_i, :], (28, 28)), cmap='gray')\n",
    "    axs[0][example_i].axis('off')\n",
    "    # reconstructed\n",
    "    axs[1][example_i].imshow(np.reshape(img_est[example_i, :], (28, 28)), cmap='gray')\n",
    "    axs[1][example_i].axis('off')\n",
    "\n",
    "fig.show()\n",
    "plt.draw()"
   ]
  },
  {
   "cell_type": "markdown",
   "metadata": {
    "collapsed": true
   },
   "source": [
    "### Save the net"
   ]
  },
  {
   "cell_type": "code",
   "execution_count": 13,
   "metadata": {},
   "outputs": [],
   "source": [
    "import os\n",
    "foldname = \"./rescvae_mnist\"\n",
    "name = \"rescvae.pkl\"\n",
    "netname = \"model_rescvae.ckpt\"\n",
    "namepath = os.path.join(foldname, name)\n",
    "netpath = os.path.join(foldname, netname)\n",
    "savedict = {'netpath': netpath}\n",
    "if os.path.exists(foldname):\n",
    "    os.system(\"rm -r %s\" % (foldname))\n",
    "os.mkdir(foldname)\n",
    "utils.save_net(sess=net.sess,\n",
    "               namepath=namepath,\n",
    "               netpath=netpath,\n",
    "               savedict=savedict)"
   ]
  },
  {
   "cell_type": "code",
   "execution_count": null,
   "metadata": {},
   "outputs": [],
   "source": []
  }
 ],
 "metadata": {
  "kernelspec": {
   "display_name": "Python 3",
   "language": "python",
   "name": "python3"
  },
  "language_info": {
   "codemirror_mode": {
    "name": "ipython",
    "version": 3
   },
   "file_extension": ".py",
   "mimetype": "text/x-python",
   "name": "python",
   "nbconvert_exporter": "python",
   "pygments_lexer": "ipython3",
   "version": "3.6.7"
  }
 },
 "nbformat": 4,
 "nbformat_minor": 2
}
