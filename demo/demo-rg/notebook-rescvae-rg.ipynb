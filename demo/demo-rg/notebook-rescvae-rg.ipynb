{
 "cells": [
  {
   "cell_type": "markdown",
   "metadata": {},
   "source": [
    "## Residual conditional variational autoencoder for radio galaxy generation"
   ]
  },
  {
   "cell_type": "code",
   "execution_count": 1,
   "metadata": {},
   "outputs": [],
   "source": [
    "# Display the result\n",
    "import matplotlib\n",
    "matplotlib.use('Agg')\n",
    "%matplotlib inline\n",
    "import matplotlib.pyplot as plt"
   ]
  },
  {
   "cell_type": "code",
   "execution_count": 2,
   "metadata": {},
   "outputs": [
    {
     "name": "stderr",
     "output_type": "stream",
     "text": [
      "/usr/lib/python3.6/importlib/_bootstrap.py:219: RuntimeWarning: compiletime version 3.5 of module 'tensorflow.python.framework.fast_tensor_util' does not match runtime version 3.6\n",
      "  return f(*args, **kwds)\n"
     ]
    }
   ],
   "source": [
    "import tensorflow as tf"
   ]
  },
  {
   "cell_type": "code",
   "execution_count": 3,
   "metadata": {},
   "outputs": [],
   "source": [
    "from rescvae.rescvae import rescvae\n",
    "from rescvae.utils import utils"
   ]
  },
  {
   "cell_type": "code",
   "execution_count": 4,
   "metadata": {},
   "outputs": [],
   "source": [
    "from rescvae.configs import config_rg\n",
    "from rescvae.configs import config_train_rg"
   ]
  },
  {
   "cell_type": "markdown",
   "metadata": {},
   "source": [
    "### Construct the network"
   ]
  },
  {
   "cell_type": "code",
   "execution_count": 5,
   "metadata": {},
   "outputs": [],
   "source": [
    "cf = config_rg()\n",
    "tr_cf = config_train_rg()"
   ]
  },
  {
   "cell_type": "code",
   "execution_count": 6,
   "metadata": {},
   "outputs": [
    {
     "name": "stdout",
     "output_type": "stream",
     "text": [
      "(?, 20, 20, 16)\n",
      "(?, 10, 10, 32)\n",
      "(?, 5, 5, 64)\n",
      "(?, 10, 10, 32)\n",
      "(?, 20, 20, 16)\n",
      "(?, 40, 40, 1)\n",
      "Layer ID    Layer type    Layer shape\n",
      "0 Input layer [None, 40, 40, 3]\n",
      "1 Block_en_0 [None, 40, 40, 3]\n",
      "2 Block_en_1 [None, 20, 20, 16]\n",
      "3 Block_en_2 [None, 10, 10, 32]\n",
      "4 En_flatten [None, 1600]\n",
      "5 En_mu [None, 32]\n",
      "6 En_sigma [None, 32]\n",
      "7 z [None, 32]\n",
      "8 De_flatten [None, 1600]\n",
      "9 De_flatten_to_conv [None, 5, 5, 64]\n",
      "10 Block_de_0 [None, 10, 10, 32]\n",
      "11 Block_de_1 [None, 20, 20, 16]\n",
      "12 Block_de_2 [None, 40, 40, 1]\n",
      "13 Output layer [None, 40, 40, 1]\n",
      "14 Flatten [None, 40, 40, 1]\n"
     ]
    }
   ],
   "source": [
    "net = rescvae(cf)\n",
    "net.cvae_build()\n",
    "net.net_print()"
   ]
  },
  {
   "cell_type": "markdown",
   "metadata": {},
   "source": [
    "### Load data"
   ]
  },
  {
   "cell_type": "code",
   "execution_count": 7,
   "metadata": {},
   "outputs": [],
   "source": [
    "# load training images\n",
    "import pickle\n",
    "import time\n",
    "import numpy as np\n",
    "x_raw = []\n",
    "y_raw = []\n",
    "num_grp = 2\n",
    "for i in range(num_grp):\n",
    "    fname = 'data/sample-lrg-train-40-40-c3-gr{0}.pkl'.format(i)\n",
    "    with open(fname, 'rb') as fp:\n",
    "        datadict = pickle.load(fp)\n",
    "        x_raw.append(datadict['data'])\n",
    "        y_raw.append(datadict['label'])\n",
    "        time.sleep(3)\n",
    "\n",
    "# Combine and normalization\n",
    "x_data = np.vstack(x_raw).astype('float32')\n",
    "y_label = np.hstack(y_raw)\n",
    "\n",
    "del(x_raw)\n",
    "    \n",
    "# vec2onehot\n",
    "y_label = utils.vec2onehot(label=y_label, numclass=cf.numclass)"
   ]
  },
  {
   "cell_type": "markdown",
   "metadata": {},
   "source": [
    "### Train the network"
   ]
  },
  {
   "cell_type": "code",
   "execution_count": 8,
   "metadata": {},
   "outputs": [
    {
     "name": "stdout",
     "output_type": "stream",
     "text": [
      "[2018-11-27: 19:07:30]: Epochs    Trn_loss_recon    Val_loss_recon    Trn_loss_latent    Val_loss_latent\n",
      "[2018-11-27: 19:07:51]:      0        1169.92812        1056.25975           20.06613            4.34570\n",
      "[2018-11-27: 19:08:11]:      1        1047.46098        1001.46108            4.90570            3.79250\n",
      "[2018-11-27: 19:08:30]:      2         992.31958         946.97076            1.11439            3.06841\n",
      "[2018-11-27: 19:08:49]:      3         941.07722         896.31264            0.54248            2.72441\n",
      "[2018-11-27: 19:09:08]:      4         894.52205         854.13485            0.44906            2.55123\n",
      "[2018-11-27: 19:09:28]:      5         854.44436         820.80061            0.35723            2.42848\n",
      "[2018-11-27: 19:09:47]:      6         820.72681         794.50715            0.33221            2.27035\n",
      "[2018-11-27: 19:10:06]:      7         792.48006         772.45845            0.37722            2.24655\n",
      "[2018-11-27: 19:10:26]:      8         768.29036         753.13386            0.58165            2.11206\n",
      "[2018-11-27: 19:10:45]:      9         746.57099         735.22610            1.07533            2.43104\n",
      "[2018-11-27: 19:11:04]:     10         727.04066         718.52517            1.54051            2.67730\n",
      "[2018-11-27: 19:11:23]:     11         709.42556         702.84847            1.82025            2.76363\n",
      "[2018-11-27: 19:11:43]:     12         693.25346         687.95696            2.01593            2.54601\n",
      "[2018-11-27: 19:12:02]:     13         678.10776         673.13189            2.17459            2.53093\n",
      "[2018-11-27: 19:12:21]:     14         663.67873         659.52315            2.31837            2.42208\n",
      "[2018-11-27: 19:12:40]:     15         649.85477         645.76231            2.42878            2.61861\n",
      "[2018-11-27: 19:12:59]:     16         636.49678         632.91524            2.57273            2.49725\n",
      "[2018-11-27: 19:13:19]:     17         623.54659         620.11826            2.67192            2.50634\n",
      "[2018-11-27: 19:13:38]:     18         610.98262         607.47401            2.76611            2.55063\n",
      "[2018-11-27: 19:13:57]:     19         598.73386         595.34820            2.88499            2.67920\n",
      "[2018-11-27: 19:14:16]:     20         586.80153         584.02034            2.97880            2.80107\n",
      "[2018-11-27: 19:14:36]:     21         575.13136         571.90516            3.06993            2.89895\n",
      "[2018-11-27: 19:14:55]:     22         563.62268         560.53157            3.16188            3.04949\n",
      "[2018-11-27: 19:15:14]:     23         552.22137         549.38123            3.25127            3.16864\n",
      "[2018-11-27: 19:15:33]:     24         541.24416         537.87088            3.33239            3.39743\n",
      "[2018-11-27: 19:15:52]:     25         530.42393         526.78037            3.45016            3.49754\n",
      "[2018-11-27: 19:16:11]:     26         519.85142         516.09047            3.57792            3.61998\n",
      "[2018-11-27: 19:16:30]:     27         509.48346         505.75713            3.77102            3.88177\n",
      "[2018-11-27: 19:16:48]:     28         499.14783         495.73774            3.92768            3.97972\n",
      "[2018-11-27: 19:17:07]:     29         489.23010         486.57265            4.09432            4.01403\n",
      "[2018-11-27: 19:17:26]:     30         479.58699         476.70147            4.22890            4.13951\n",
      "[2018-11-27: 19:17:45]:     31         470.19944         467.69289            4.35265            4.37381\n",
      "[2018-11-27: 19:18:04]:     32         461.02180         457.97573            4.49052            4.56144\n",
      "[2018-11-27: 19:18:24]:     33         452.07666         449.81017            4.57552            4.68552\n",
      "[2018-11-27: 19:18:43]:     34         443.40302         440.47938            4.67226            4.76811\n",
      "[2018-11-27: 19:19:02]:     35         434.94843         432.79520            4.79195            4.75029\n",
      "[2018-11-27: 19:19:22]:     36         426.67674         424.38094            4.85256            4.80705\n",
      "[2018-11-27: 19:19:41]:     37         418.62752         416.40144            4.90997            5.01962\n",
      "[2018-11-27: 19:20:00]:     38         410.72033         408.59767            5.02384            5.09892\n",
      "[2018-11-27: 19:20:18]:     39         403.08137         401.09327            5.10750            5.08100\n",
      "[2018-11-27: 19:20:37]:     40         395.64111         393.83232            5.15909            5.17605\n",
      "[2018-11-27: 19:20:55]:     41         388.27833         386.34401            5.23056            5.29323\n",
      "[2018-11-27: 19:21:13]:     42         381.17598         379.24050            5.30962            5.35729\n",
      "[2018-11-27: 19:21:31]:     43         374.21946         372.16229            5.35312            5.51263\n",
      "[2018-11-27: 19:21:50]:     44         367.43039         366.24730            5.44073            5.18560\n",
      "[2018-11-27: 19:22:08]:     45         360.83902         359.00959            5.47098            5.44282\n",
      "[2018-11-27: 19:22:26]:     46         354.40426         352.98944            5.53316            5.47479\n",
      "[2018-11-27: 19:22:44]:     47         348.11472         347.38298            5.60968            5.45559\n",
      "[2018-11-27: 19:23:02]:     48         341.94618         341.29289            5.65718            5.57408\n",
      "[2018-11-27: 19:23:21]:     49         335.97219         335.24126            5.71356            5.66446\n",
      "[2018-11-27: 19:23:39]:     50         330.15958         328.86605            5.76750            5.86551\n",
      "[2018-11-27: 19:23:57]:     51         324.49954         323.31464            5.83496            5.79186\n",
      "[2018-11-27: 19:24:15]:     52         318.94456         317.29528            5.86272            6.02505\n",
      "[2018-11-27: 19:24:33]:     53         313.54508         311.95321            5.93245            5.92453\n",
      "[2018-11-27: 19:24:52]:     54         308.28872         308.02845            5.97444            6.01373\n",
      "[2018-11-27: 19:25:10]:     55         303.18250         301.99309            6.03396            6.08079\n",
      "[2018-11-27: 19:25:28]:     56         298.19624         297.17857            6.06522            6.17793\n",
      "[2018-11-27: 19:25:46]:     57         293.31091         291.83684            6.10650            6.16087\n",
      "[2018-11-27: 19:26:05]:     58         288.59302         287.40893            6.16121            6.30888\n",
      "[2018-11-27: 19:26:23]:     59         283.95572         283.46608            6.19714            6.14705\n",
      "[2018-11-27: 19:26:41]:     60         279.48550         279.65037            6.24995            6.40493\n",
      "[2018-11-27: 19:27:00]:     61         275.06469         274.33575            6.29040            6.50033\n",
      "[2018-11-27: 19:27:18]:     62         270.82090         271.30941            6.34950            6.45830\n",
      "[2018-11-27: 19:27:37]:     63         266.68112         265.46596            6.34375            6.46758\n",
      "[2018-11-27: 19:27:55]:     64         262.62970         263.13649            6.38676            6.32253\n",
      "[2018-11-27: 19:28:13]:     65         258.69795         257.89840            6.44736            6.43728\n",
      "[2018-11-27: 19:28:32]:     66         254.86275         254.34259            6.47401            6.56041\n",
      "[2018-11-27: 19:28:50]:     67         251.12405         251.42162            6.53314            6.87728\n",
      "[2018-11-27: 19:29:09]:     68         247.47681         247.06075            6.55705            6.78534\n",
      "[2018-11-27: 19:29:27]:     69         243.93782         243.25837            6.56179            6.95078\n",
      "[2018-11-27: 19:29:46]:     70         240.49997         240.09262            6.61364            6.70959\n",
      "[2018-11-27: 19:30:04]:     71         237.13234         237.79584            6.64839            6.69782\n",
      "[2018-11-27: 19:30:23]:     72         233.85749         234.18854            6.66654            6.75216\n",
      "[2018-11-27: 19:30:41]:     73         230.66874         231.53198            6.71256            6.72749\n",
      "[2018-11-27: 19:31:00]:     74         227.56472         228.32781            6.77283            6.49206\n",
      "[2018-11-27: 19:31:18]:     75         224.52574         224.70406            6.80059            6.66827\n",
      "[2018-11-27: 19:31:37]:     76         221.59388         222.08267            6.82101            6.68010\n",
      "[2018-11-27: 19:31:55]:     77         218.70966         219.65945            6.86170            6.67097\n"
     ]
    },
    {
     "name": "stdout",
     "output_type": "stream",
     "text": [
      "[2018-11-27: 19:32:14]:     78         215.95019         216.87629            6.91252            6.66605\n",
      "[2018-11-27: 19:32:33]:     79         213.21126         213.53749            6.91352            6.87690\n",
      "[2018-11-27: 19:32:51]:     80         210.60203         211.25891            6.94917            6.96472\n",
      "[2018-11-27: 19:33:10]:     81         207.97793         209.14702            6.99310            7.00064\n",
      "[2018-11-27: 19:33:28]:     82         205.51226         207.47328            7.02648            6.96591\n",
      "[2018-11-27: 19:33:47]:     83         203.08756         203.65190            7.02902            7.11413\n",
      "[2018-11-27: 19:34:06]:     84         200.71069         201.09048            7.05076            6.91928\n",
      "[2018-11-27: 19:34:24]:     85         198.41358         199.37341            7.09486            7.08321\n",
      "[2018-11-27: 19:34:43]:     86         196.14115         197.10957            7.12760            7.02615\n",
      "[2018-11-27: 19:35:01]:     87         193.97684         195.06569            7.15446            7.26938\n",
      "[2018-11-27: 19:35:20]:     88         191.84655         193.52801            7.18587            7.17455\n",
      "[2018-11-27: 19:35:39]:     89         189.76278         191.85046            7.21324            7.61283\n",
      "[2018-11-27: 19:35:57]:     90         187.74991         189.23486            7.24626            7.33382\n",
      "[2018-11-27: 19:36:16]:     91         185.78048         187.25067            7.26982            7.18334\n",
      "[2018-11-27: 19:36:35]:     92         183.88365         185.55393            7.30132            7.42572\n",
      "[2018-11-27: 19:36:53]:     93         182.04045         183.31745            7.34493            7.24748\n",
      "[2018-11-27: 19:37:12]:     94         180.18976         182.18504            7.36095            7.41315\n",
      "[2018-11-27: 19:37:31]:     95         178.46332         180.03163            7.38266            7.34702\n",
      "[2018-11-27: 19:37:50]:     96         176.72371         178.54238            7.44774            7.21115\n",
      "[2018-11-27: 19:38:08]:     97         175.07907         176.97581            7.40979            7.66211\n",
      "[2018-11-27: 19:38:27]:     98         173.43839         175.55193            7.47201            7.53292\n",
      "[2018-11-27: 19:38:46]:     99         171.84808         173.88498            7.48717            7.21994\n",
      "[2018-11-27: 19:39:04]:    100         170.37127         171.40458            7.52424            7.45815\n",
      "[2018-11-27: 19:39:23]:    101         168.80491         170.21742            7.54381            7.70423\n",
      "[2018-11-27: 19:39:42]:    102         167.37226         168.57239            7.57132            7.73163\n",
      "[2018-11-27: 19:40:01]:    103         165.93934         167.74842            7.58298            7.64808\n",
      "[2018-11-27: 19:40:19]:    104         164.56155         166.98117            7.61623            7.58435\n",
      "[2018-11-27: 19:40:38]:    105         163.22802         166.62785            7.64252            7.71833\n",
      "[2018-11-27: 19:40:57]:    106         161.93202         165.67438            7.65521            7.76346\n",
      "[2018-11-27: 19:41:16]:    107         160.65262         163.92375            7.67194            7.84061\n",
      "[2018-11-27: 19:41:35]:    108         159.43285         161.71343            7.70906            7.73310\n",
      "[2018-11-27: 19:41:53]:    109         158.17219         161.56305            7.73375            7.73342\n",
      "[2018-11-27: 19:42:12]:    110         157.06923         160.37405            7.73652            8.01736\n",
      "[2018-11-27: 19:42:31]:    111         155.89344         160.87659            7.78115            8.15941\n",
      "[2018-11-27: 19:42:50]:    112         154.78691         159.05511            7.78939            8.03088\n",
      "[2018-11-27: 19:43:09]:    113         153.70596         157.79198            7.81649            7.64074\n",
      "[2018-11-27: 19:43:27]:    114         152.65227         155.33952            7.82379            7.75493\n",
      "[2018-11-27: 19:43:46]:    115         151.64128         154.87055            7.87175            7.83989\n",
      "[2018-11-27: 19:44:05]:    116         150.66098         154.15405            7.89140            7.77132\n",
      "[2018-11-27: 19:44:24]:    117         149.66983         152.53845            7.92928            7.82571\n",
      "[2018-11-27: 19:44:43]:    118         148.76516         151.35124            7.94658            8.02976\n",
      "[2018-11-27: 19:45:02]:    119         147.84314         151.57217            7.95959            7.71621\n",
      "[2018-11-27: 19:45:20]:    120         146.94013         149.69132            7.96747            8.06209\n",
      "[2018-11-27: 19:45:39]:    121         146.04283         149.46677            7.98215            8.04188\n",
      "[2018-11-27: 19:45:58]:    122         145.20851         148.87587            8.01270            8.00100\n",
      "[2018-11-27: 19:46:17]:    123         144.42104         148.96383            8.01453            7.86884\n",
      "[2018-11-27: 19:46:36]:    124         143.61423         147.52551            8.05148            7.90174\n",
      "[2018-11-27: 19:46:55]:    125         142.81398         146.82496            8.06460            7.99070\n",
      "[2018-11-27: 19:47:14]:    126         142.02971         145.18238            8.12294            8.20357\n",
      "[2018-11-27: 19:47:33]:    127         141.31304         144.90306            8.12225            7.92930\n",
      "[2018-11-27: 19:47:52]:    128         140.61994         144.73658            8.11486            8.12417\n",
      "[2018-11-27: 19:48:10]:    129         139.84732         142.76966            8.16172            8.01598\n",
      "[2018-11-27: 19:48:31]:    130         139.19631         143.50252            8.15846            8.20096\n",
      "[2018-11-27: 19:48:50]:    131         138.53395         143.08510            8.18699            8.41782\n",
      "[2018-11-27: 19:49:10]:    132         137.92778         141.31977            8.19551            8.27391\n",
      "[2018-11-27: 19:49:29]:    133         137.29223         140.28811            8.21151            8.21606\n",
      "[2018-11-27: 19:49:49]:    134         136.68785         139.90246            8.21988            8.44057\n",
      "[2018-11-27: 19:50:08]:    135         136.05787         139.50296            8.24900            8.21349\n",
      "[2018-11-27: 19:50:28]:    136         135.45693         139.49587            8.27714            8.22393\n",
      "[2018-11-27: 19:50:47]:    137         134.89474         138.87835            8.27801            8.25094\n",
      "[2018-11-27: 19:51:07]:    138         134.37223         138.34328            8.27951            8.29725\n",
      "[2018-11-27: 19:51:26]:    139         133.84304         137.15407            8.29249            8.41485\n",
      "[2018-11-27: 19:51:45]:    140         133.32289         136.49572            8.34226            8.23298\n",
      "[2018-11-27: 19:52:04]:    141         132.81864         137.25318            8.34148            8.28260\n",
      "[2018-11-27: 19:52:24]:    142         132.34949         135.69003            8.35976            8.45192\n",
      "[2018-11-27: 19:52:44]:    143         131.84943         135.22907            8.37887            8.62711\n",
      "[2018-11-27: 19:53:04]:    144         131.40211         136.12644            8.41226            8.86130\n",
      "[2018-11-27: 19:53:24]:    145         130.93988         134.56087            8.41062            8.69828\n",
      "[2018-11-27: 19:53:44]:    146         130.46615         135.45555            8.41239            8.31497\n",
      "[2018-11-27: 19:54:04]:    147         130.06555         134.86991            8.43248            8.63339\n",
      "[2018-11-27: 19:54:24]:    148         129.67207         134.30982            8.43875            8.83922\n",
      "[2018-11-27: 19:54:44]:    149         129.27973         134.49565            8.46215            8.67122\n",
      "[2018-11-27: 19:55:04]:    150         128.83039         134.52210            8.48293            8.38839\n",
      "[2018-11-27: 19:55:24]:    151         128.44996         136.16890            8.49634            8.77775\n",
      "[2018-11-27: 19:55:44]:    152         128.12593         133.04958            8.53514            8.55884\n",
      "[2018-11-27: 19:56:03]:    153         127.75216         133.32697            8.53138            8.82911\n",
      "[2018-11-27: 19:56:22]:    154         127.40908         134.48377            8.54078            8.79800\n",
      "[2018-11-27: 19:56:42]:    155         127.06795         132.34410            8.55589            8.72061\n",
      "[2018-11-27: 19:57:01]:    156         126.69836         131.57429            8.55215            8.66768\n"
     ]
    },
    {
     "name": "stdout",
     "output_type": "stream",
     "text": [
      "[2018-11-27: 19:57:21]:    157         126.38386         131.57683            8.56307            8.84095\n",
      "[2018-11-27: 19:57:40]:    158         126.03610         131.72581            8.60884            8.52384\n",
      "[2018-11-27: 19:58:00]:    159         125.75574         129.83181            8.57530            8.27612\n",
      "[2018-11-27: 19:58:20]:    160         125.42804         130.06734            8.59043            8.82916\n",
      "[2018-11-27: 19:58:41]:    161         125.16010         130.68937            8.63114            8.78236\n",
      "[2018-11-27: 19:59:01]:    162         124.86257         131.25279            8.65288            8.70528\n",
      "[2018-11-27: 19:59:21]:    163         124.58541         131.00319            8.66371            8.65902\n",
      "[2018-11-27: 19:59:42]:    164         124.33237         129.80737            8.65926            9.01211\n",
      "[2018-11-27: 20:00:02]:    165         124.04877         129.23977            8.67093            8.72861\n",
      "[2018-11-27: 20:00:23]:    166         123.80191         128.02345            8.66571            8.51502\n",
      "[2018-11-27: 20:00:43]:    167         123.55808         127.21789            8.70135            8.76652\n",
      "[2018-11-27: 20:01:03]:    168         123.33038         126.50815            8.69080            8.78549\n",
      "[2018-11-27: 20:01:24]:    169         123.06882         126.60959            8.72376            8.81916\n",
      "[2018-11-27: 20:01:44]:    170         122.82836         127.23898            8.70462            8.54310\n",
      "[2018-11-27: 20:02:04]:    171         122.60607         126.85942            8.72985            8.49019\n",
      "[2018-11-27: 20:02:25]:    172         122.40734         127.39325            8.74364            8.59907\n",
      "[2018-11-27: 20:02:45]:    173         122.18545         127.96997            8.75315            8.53353\n",
      "[2018-11-27: 20:03:05]:    174         121.97309         128.12483            8.76728            8.75449\n",
      "[2018-11-27: 20:03:26]:    175         121.76891         129.75080            8.75627            8.76892\n",
      "[2018-11-27: 20:03:46]:    176         121.56810         126.37123            8.78949            8.71072\n",
      "[2018-11-27: 20:04:06]:    177         121.40782         126.33660            8.75296            8.90163\n",
      "[2018-11-27: 20:04:27]:    178         121.23281         128.33570            8.78737            8.72788\n",
      "[2018-11-27: 20:04:47]:    179         121.02779         125.89262            8.78654            8.50729\n",
      "[2018-11-27: 20:05:08]:    180         120.84059         125.86465            8.82412            8.61524\n",
      "[2018-11-27: 20:05:28]:    181         120.68798         124.80659            8.82760            8.71078\n",
      "[2018-11-27: 20:05:48]:    182         120.56156         126.56883            8.85223            8.63085\n",
      "[2018-11-27: 20:06:09]:    183         120.37035         126.14471            8.84193            8.65465\n",
      "[2018-11-27: 20:06:29]:    184         120.20026         128.91816            8.85659            8.77280\n",
      "[2018-11-27: 20:06:50]:    185         120.09228         126.44386            8.85162            8.98247\n",
      "[2018-11-27: 20:07:10]:    186         119.89542         128.24781            8.86802            8.94580\n",
      "[2018-11-27: 20:07:31]:    187         119.75315         127.28253            8.85425            8.91312\n",
      "[2018-11-27: 20:07:51]:    188         119.62507         126.05049            8.87368            8.92204\n",
      "[2018-11-27: 20:08:11]:    189         119.50527         124.00624            8.90067            9.00649\n",
      "[2018-11-27: 20:08:32]:    190         119.37641         124.26310            8.89772            9.07644\n",
      "[2018-11-27: 20:08:52]:    191         119.21424         123.18217            8.90582            8.92843\n",
      "[2018-11-27: 20:09:13]:    192         119.09187         124.48855            8.88620            8.92447\n",
      "[2018-11-27: 20:09:33]:    193         118.98646         125.98125            8.89541            9.40307\n",
      "[2018-11-27: 20:09:54]:    194         118.82288         125.15153            8.93884            9.23844\n",
      "[2018-11-27: 20:10:14]:    195         118.75604         123.94246            8.92892            9.16533\n",
      "[2018-11-27: 20:10:35]:    196         118.62381         123.54609            8.94136            8.85142\n",
      "[2018-11-27: 20:10:55]:    197         118.51800         124.65837            8.94130            8.59183\n",
      "[2018-11-27: 20:11:16]:    198         118.40875         125.80326            8.96070            9.12024\n",
      "[2018-11-27: 20:11:36]:    199         118.31806         126.36894            8.97283            9.05299\n"
     ]
    }
   ],
   "source": [
    "# train the net\n",
    "net.cvae_train(data=x_data, labels=y_label, train_configs=tr_cf)"
   ]
  },
  {
   "cell_type": "code",
   "execution_count": 9,
   "metadata": {},
   "outputs": [],
   "source": [
    "# save net\n",
    "import os\n",
    "foldname = \"rescvae_rg\"\n",
    "name = \"rescvae.pkl\"\n",
    "netname = \"model_rescvae.ckpt\"\n",
    "namepath = os.path.join(foldname, name)\n",
    "netpath = os.path.join(foldname, netname)\n",
    "savedict = {'netpath': netpath}\n",
    "if os.path.exists(foldname):\n",
    "    os.system(\"rm -r %s\" % (foldname))\n",
    "os.mkdir(foldname)\n",
    "utils.save_net(\n",
    "    sess=net.sess,\n",
    "    namepath=namepath,\n",
    "    netpath=netpath,\n",
    "    savedict=savedict)\n",
    "\n",
    "savepath = os.path.join(foldname,'train_loss_{0}.pkl'.format(cf.z_length))\n",
    "utils.loss_save(net, savepath)"
   ]
  },
  {
   "cell_type": "markdown",
   "metadata": {},
   "source": [
    "### Test"
   ]
  },
  {
   "cell_type": "code",
   "execution_count": 11,
   "metadata": {},
   "outputs": [],
   "source": [
    "n_examples = 10\n",
    "fname = 'data/sample-lrg-test-40-40-c3.pkl'\n",
    "with open(fname, 'rb') as fp:\n",
    "    datadict = pickle.load(fp)\n",
    "    x_test = datadict['data']\n",
    "    y_test = datadict['label']\n",
    "\n",
    "y_test = utils.vec2onehot(y_test, 2)"
   ]
  },
  {
   "cell_type": "code",
   "execution_count": 12,
   "metadata": {},
   "outputs": [],
   "source": [
    "idx_test = np.random.permutation(len(y_test))\n",
    "img_test = x_test[idx_test[0:n_examples]]\n",
    "label_test = y_test[idx_test[0:n_examples]]\n",
    "label_test_input = utils.condition_reshape(\n",
    "    label=label_test, numclass=cf.numclass, imgshape=(cf.rs, cf.rs))"
   ]
  },
  {
   "cell_type": "code",
   "execution_count": 13,
   "metadata": {},
   "outputs": [],
   "source": [
    "img_est = net.sess.run(\n",
    "    net.output_flatten_de, \n",
    "    feed_dict={net.inputs: img_test.reshape(-1,cf.rs,cf.rs,1), \n",
    "               net.outputs: img_test.reshape(-1,cf.rs,cf.rs,1),\n",
    "               net.conditions: label_test,\n",
    "               net.conditions_input: label_test_input,\n",
    "               net.is_training: False,\n",
    "               net.keep_prob:1.0\n",
    "               })"
   ]
  },
  {
   "cell_type": "code",
   "execution_count": 14,
   "metadata": {},
   "outputs": [
    {
     "name": "stderr",
     "output_type": "stream",
     "text": [
      "/home/mzx/.local/lib/python3.6/site-packages/matplotlib/figure.py:445: UserWarning: Matplotlib is currently using module://ipykernel.pylab.backend_inline, which is a non-GUI backend, so cannot show the figure.\n",
      "  % get_backend())\n"
     ]
    },
    {
     "data": {
      "image/png": "[encoded data removed]",
      "text/plain": [
       "<Figure size 720x144 with 20 Axes>"
      ]
     },
     "metadata": {},
     "output_type": "display_data"
    }
   ],
   "source": [
    "import numpy as np\n",
    "fig, axs = plt.subplots(2, n_examples, figsize=(n_examples, 2))\n",
    "for example_i in range(n_examples):\n",
    "    # original\n",
    "    axs[0][example_i].imshow(np.reshape(img_test[example_i, :], (cf.rs, cf.rs)), cmap='gray')\n",
    "    axs[0][example_i].axis('off')\n",
    "    # reconstructed\n",
    "    axs[1][example_i].imshow(np.reshape(img_est[example_i, :], (cf.rs, cf.rs)), cmap='gray')\n",
    "    axs[1][example_i].axis('off')\n",
    "\n",
    "fig.show()\n",
    "plt.draw()"
   ]
  },
  {
   "cell_type": "markdown",
   "metadata": {},
   "source": [
    "## Generate new images"
   ]
  },
  {
   "cell_type": "code",
   "execution_count": 25,
   "metadata": {},
   "outputs": [
    {
     "name": "stderr",
     "output_type": "stream",
     "text": [
      "/home/mzx/.local/lib/python3.6/site-packages/matplotlib/figure.py:445: UserWarning: Matplotlib is currently using module://ipykernel.pylab.backend_inline, which is a non-GUI backend, so cannot show the figure.\n",
      "  % get_backend())\n"
     ]
    },
    {
     "data": {
      "image/png": "[encoded data removed]",
      "text/plain": [
       "<Figure size 720x144 with 20 Axes>"
      ]
     },
     "metadata": {},
     "output_type": "display_data"
    }
   ],
   "source": [
    "n_examples = 10\n",
    "\n",
    "fig, axs = plt.subplots(cf.numclass, n_examples, figsize=(n_examples, cf.numclass))\n",
    "for i in range(cf.numclass):\n",
    "    z_gen = np.random.normal(0, 1, [n_examples, cf.z_length])\n",
    "    # label\n",
    "    labels = np.zeros([n_examples, cf.numclass])\n",
    "    labels[:,i] = 1.0\n",
    "    imgs = net.sess.run(\n",
    "        net.output_flatten_de, \n",
    "        feed_dict = {net.z: z_gen, net.conditions: labels, \n",
    "                     net.is_training: False, \n",
    "                     net.keep_prob: 1.0})\n",
    "    img_test = [np.reshape(imgs[i], [cf.rs, cf.rs]) for i in range(len(imgs))]\n",
    "    for example_i in range(n_examples):\n",
    "        # original\n",
    "        axs[i][example_i].imshow(img_test[example_i], cmap='gray')\n",
    "        axs[i][example_i].axis('off')\n",
    "\n",
    "fig.show()\n",
    "plt.draw()\n",
    "plt.savefig(\"rg-generation.png\", bbox_inches=\"tight\", dpi=200)"
   ]
  }
 ],
 "metadata": {
  "kernelspec": {
   "display_name": "Python 3",
   "language": "python",
   "name": "python3"
  },
  "language_info": {
   "codemirror_mode": {
    "name": "ipython",
    "version": 3
   },
   "file_extension": ".py",
   "mimetype": "text/x-python",
   "name": "python",
   "nbconvert_exporter": "python",
   "pygments_lexer": "ipython3",
   "version": "3.6.7"
  }
 },
 "nbformat": 4,
 "nbformat_minor": 2
}
